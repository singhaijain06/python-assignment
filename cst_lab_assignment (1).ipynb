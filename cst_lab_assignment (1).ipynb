{
  "nbformat": 4,
  "nbformat_minor": 0,
  "metadata": {
    "colab": {
      "provenance": []
    },
    "kernelspec": {
      "name": "python3",
      "display_name": "Python 3"
    },
    "language_info": {
      "name": "python"
    }
  },
  "cells": [
    {
      "cell_type": "markdown",
      "source": [
        "1.\tWrite a Python program to calculate the area of a circle given its radius."
      ],
      "metadata": {
        "id": "DsLRCmhg1WaP"
      }
    },
    {
      "cell_type": "code",
      "source": [
        "radius=float(input(\"Enter the radius of the circle\"))\n",
        "area=3.14*radius*radius\n",
        "print(\"The area of the circle is\",area)"
      ],
      "metadata": {
        "id": "zJZ5SPf_1AEO"
      },
      "execution_count": null,
      "outputs": []
    },
    {
      "cell_type": "markdown",
      "source": [
        "2.\tCreate a program that takes user input for a temperature in Celsius and converts it to Fahrenheit."
      ],
      "metadata": {
        "id": "12yBCjcN0zOJ"
      }
    },
    {
      "cell_type": "code",
      "source": [
        "celsius = float(input(\"Enter the temperature in Celsius: \"))\n",
        "\n",
        "fahrenheit = (celsius * 9/5) + 32\n",
        "\n",
        "print(\"The temperature in Fahrenheits is:\", fahrenheit)"
      ],
      "metadata": {
        "id": "p9OYmYRb0rRd"
      },
      "execution_count": null,
      "outputs": []
    },
    {
      "cell_type": "markdown",
      "source": [
        "3.\tImplement a calculator that performs basic arithmetic operations (addition, subtraction, multiplication, division) based on user input."
      ],
      "metadata": {
        "id": "oL0r5SXW0e02"
      }
    },
    {
      "cell_type": "code",
      "source": [
        "num1=int(input(\"Enter the first number\"))\n",
        "num2=int(input(\"Enter the second number\"))\n",
        "sum=num1+num2\n",
        "print(\"The sum of the two numbers is\",sum)"
      ],
      "metadata": {
        "colab": {
          "base_uri": "https://localhost:8080/"
        },
        "id": "r_SRUpqPw9Nx",
        "outputId": "b0b10c94-29a4-4244-9f44-b0fb609027bf"
      },
      "execution_count": null,
      "outputs": [
        {
          "output_type": "stream",
          "name": "stdout",
          "text": [
            "Enter the first number6\n",
            "Enter the second number8\n",
            "The sum of the two numbers is 14\n"
          ]
        }
      ]
    },
    {
      "cell_type": "markdown",
      "source": [
        "4.\tWrite a program that checks if a number is even or odd."
      ],
      "metadata": {
        "id": "M_9zSq4o0aCE"
      }
    },
    {
      "cell_type": "code",
      "source": [
        "number = int(input(\"Enter a number: \"))\n",
        "\n",
        "if number % 2 == 0:\n",
        "    print(number, \"is even.\")\n",
        "else:\n",
        "    print(number, \"is odd.\")\n"
      ],
      "metadata": {
        "colab": {
          "base_uri": "https://localhost:8080/"
        },
        "id": "Ggi8zlVsxHm5",
        "outputId": "0208e98f-706c-4b5f-ce7d-70ba26e356c4"
      },
      "execution_count": null,
      "outputs": [
        {
          "output_type": "stream",
          "name": "stdout",
          "text": [
            "Enter a number: 9\n",
            "9 is odd.\n"
          ]
        }
      ]
    },
    {
      "cell_type": "markdown",
      "source": [
        "5.\tDevelop a function that takes a string as input and returns the string reversed."
      ],
      "metadata": {
        "id": "bwm5Tm6K0ScF"
      }
    },
    {
      "cell_type": "code",
      "source": [
        "def reverse_string(word):\n",
        "  reversed_word = \"\"\n",
        "  for letter in word:\n",
        "    reversed_word = letter + reversed_word\n",
        "  return reversed_word\n",
        "\n",
        "word = input(\"Enter a word: \")\n",
        "reversed_word = reverse_string(word)\n",
        "print(\"Reversed word:\", reversed_word)\n",
        "\n"
      ],
      "metadata": {
        "colab": {
          "base_uri": "https://localhost:8080/"
        },
        "id": "BgQXuPnxxedj",
        "outputId": "da865476-9d2b-4420-f925-3c51d095d8d6"
      },
      "execution_count": null,
      "outputs": [
        {
          "output_type": "stream",
          "name": "stdout",
          "text": [
            "Enter a word: j\n",
            "Reversed word: j\n"
          ]
        }
      ]
    },
    {
      "cell_type": "markdown",
      "source": [
        "6.\tCreate a program that asks the user for their age and prints whether they are a minor, adult, or senior."
      ],
      "metadata": {
        "id": "r1U-dCJu0KDq"
      }
    },
    {
      "cell_type": "code",
      "source": [
        "age = int(input(\"Enter your age: \"))\n",
        "\n",
        "if age < 18:\n",
        "    print(\"You are a minor.\")\n",
        "elif age >= 18 and age < 65:\n",
        "    print(\"You are an adult.\")\n",
        "else:\n",
        "    print(\"You are a senior.\")\n"
      ],
      "metadata": {
        "colab": {
          "base_uri": "https://localhost:8080/"
        },
        "id": "ASWlBJSaxwvq",
        "outputId": "22829cb0-65f0-41ec-b54f-b2d81b5a82ac"
      },
      "execution_count": null,
      "outputs": [
        {
          "output_type": "stream",
          "name": "stdout",
          "text": [
            "Enter your age: 19\n",
            "You are an adult.\n"
          ]
        }
      ]
    },
    {
      "cell_type": "markdown",
      "source": [
        "7.\tWrite a program that evaluates three numbers and prints the largest one."
      ],
      "metadata": {
        "id": "1UBzkUZ70BYZ"
      }
    },
    {
      "cell_type": "code",
      "source": [
        "num1 = float(input(\"Enter the first number: \"))\n",
        "num2 = float(input(\"Enter the second number: \"))\n",
        "num3 = float(input(\"Enter the third number: \"))\n",
        "\n",
        "largest_number = max(num1, num2, num3)\n",
        "\n",
        "print(\"The largest number is:\", largest_number)\n",
        "\n"
      ],
      "metadata": {
        "colab": {
          "base_uri": "https://localhost:8080/"
        },
        "id": "exf-VMc6xvRr",
        "outputId": "ec680b7b-5652-4b65-ce90-6b6d4098b149"
      },
      "execution_count": null,
      "outputs": [
        {
          "output_type": "stream",
          "name": "stdout",
          "text": [
            "Enter the first number: 8\n",
            "Enter the second number: 0\n",
            "Enter the third number: 7\n",
            "The largest number is: 8.0\n"
          ]
        }
      ]
    },
    {
      "cell_type": "markdown",
      "source": [
        "8.\tImplement a program that gives feedback based on a user's score (A, B, C, D, F)."
      ],
      "metadata": {
        "id": "tl-IRIfdz0jo"
      }
    },
    {
      "cell_type": "code",
      "source": [
        "grade = input(\"Enter your grade (A, B, C, D, F): \")\n",
        "\n",
        "if grade == 'A':\n",
        "  print(\"Excellent job!\")\n",
        "elif grade == 'B':\n",
        "  print(\"Good job!\")\n",
        "elif grade == 'C':\n",
        "  print(\"You can do better.\")\n",
        "elif grade == 'D' or grade == 'F':\n",
        "  print(\"You need to study more.\")\n",
        "else:\n",
        "  print(\"Invalid grade.\")\n"
      ],
      "metadata": {
        "colab": {
          "base_uri": "https://localhost:8080/"
        },
        "id": "1svVpNNdzI3a",
        "outputId": "9da02779-f1e9-4c3c-d635-5671a30c94c0"
      },
      "execution_count": null,
      "outputs": [
        {
          "output_type": "stream",
          "name": "stdout",
          "text": [
            "Enter your grade (A, B, C, D, F): A\n",
            "Excellent job!\n"
          ]
        }
      ]
    },
    {
      "cell_type": "markdown",
      "source": [
        "9.\tWrite a program to check if a year is a leap year."
      ],
      "metadata": {
        "id": "Gs-iidvxzoQz"
      }
    },
    {
      "cell_type": "code",
      "source": [
        "year = int(input(\"Enter a year: \"))\n",
        "\n",
        "if (year % 4 == 0) and (year % 100 != 0) or (year % 400 == 0):\n",
        "  print(year, \"is a leap year.\")\n",
        "else:\n",
        "  print(year, \"is not a leap year.\")\n",
        "\n"
      ],
      "metadata": {
        "colab": {
          "base_uri": "https://localhost:8080/"
        },
        "id": "uVbYsTCTzSzZ",
        "outputId": "11b4021c-d029-401d-d5de-ffcb4ac1bf3d"
      },
      "execution_count": null,
      "outputs": [
        {
          "output_type": "stream",
          "name": "stdout",
          "text": [
            "Enter a year: 2024\n",
            "2024 is a leap year.\n"
          ]
        }
      ]
    },
    {
      "cell_type": "markdown",
      "source": [
        "10.\tDevelop a simple login system that checks a username and password."
      ],
      "metadata": {
        "id": "RJumwEp41r9b"
      }
    },
    {
      "cell_type": "code",
      "source": [
        "data_stores = {\n",
        "    \"sharshti singhai\": \"7773\",\n",
        "    \"ss\": \"1234\"\n",
        "}\n",
        "\n",
        "username = input(\"Enter your username: \")\n",
        "password = input(\"Enter your password: \")\n",
        "\n",
        "if username in data_stores and password == data_stores[username]:\n",
        "   print(\"Login succesful!\")\n",
        "else:\n",
        "   print(\"Wrong password. \")\n",
        "\n"
      ],
      "metadata": {
        "colab": {
          "base_uri": "https://localhost:8080/"
        },
        "id": "N-KKE5sl1rM7",
        "outputId": "1205e5c9-b913-481b-de4f-b083a06eb24f"
      },
      "execution_count": null,
      "outputs": [
        {
          "output_type": "stream",
          "name": "stdout",
          "text": [
            "Enter your username: sharshti singhai\n",
            "Enter your password: 1234\n",
            "Wrong password. \n"
          ]
        }
      ]
    },
    {
      "cell_type": "markdown",
      "source": [
        "11.\tWrite a Python program that counts the number of vowels in a given string."
      ],
      "metadata": {
        "id": "sBzsm1uA2R18"
      }
    },
    {
      "cell_type": "code",
      "source": [
        "\n",
        "string = input(\"Enter a string: \")\n",
        "vowels = \"aeiouAEIOU\"\n",
        "count = 0\n",
        "\n",
        "for char in string:\n",
        "  if char in vowels:\n",
        "    count += 1\n",
        "\n",
        "print(\"Number of vowels in the string:\", count)"
      ],
      "metadata": {
        "colab": {
          "base_uri": "https://localhost:8080/"
        },
        "id": "EcgpKjxa2RIy",
        "outputId": "11f9b47b-aa96-4c03-a210-93f091cc7ad9"
      },
      "execution_count": null,
      "outputs": [
        {
          "output_type": "stream",
          "name": "stdout",
          "text": [
            "Enter a string: 1\n",
            "Number of vowels in the string: 0\n"
          ]
        }
      ]
    },
    {
      "cell_type": "markdown",
      "source": [
        "12.\tCreate a function that removes all whitespace from a user-inputted string."
      ],
      "metadata": {
        "id": "Jasm4Q5v2wpK"
      }
    },
    {
      "cell_type": "code",
      "source": [
        "sentence = input(\"Enter a  String: \")\n",
        "\n",
        "without_whitespace = sentence.replace(\" \", \"\")\n",
        "\n",
        "print(\"string without whitespace:\", without_whitespace)\n"
      ],
      "metadata": {
        "colab": {
          "base_uri": "https://localhost:8080/"
        },
        "id": "cFzRrGsd2q6-",
        "outputId": "fef5c2fa-d32a-449e-8be6-e077a101d6b7"
      },
      "execution_count": null,
      "outputs": [
        {
          "output_type": "stream",
          "name": "stdout",
          "text": [
            "Enter a  String: 0\n",
            "string without whitespace: 0\n"
          ]
        }
      ]
    },
    {
      "cell_type": "markdown",
      "source": [
        "13.\tImplement a program to check if two strings are anagrams of each other."
      ],
      "metadata": {
        "id": "6XMd4bC53BrQ"
      }
    },
    {
      "cell_type": "code",
      "source": [
        "def is_anagram(str1, str2):\n",
        "\n",
        "  if len(str1) != len(str2):\n",
        "    return False\n",
        "\n",
        "  char_count = {}\n",
        "  for char in str1:\n",
        "    char_count[char] = char_count.get(char, 0) + 1\n",
        "\n",
        "  for char in str2:\n",
        "    if char not in char_count or char_count[char] == 0:\n",
        "      return False\n",
        "    char_count[char] -= 1\n",
        "\n",
        "  return True\n",
        "\n",
        "\n",
        "string1 = input(\"Enter the first string: \")\n",
        "string2 = input(\"Enter the second string: \")\n",
        "\n",
        "if is_anagram(string1, string2):\n",
        "  print(\"The strings are anagrams.\")\n",
        "else:\n",
        "  print(\"The strings are not anagrams.\")\n"
      ],
      "metadata": {
        "colab": {
          "base_uri": "https://localhost:8080/"
        },
        "id": "gZlCMW9s2_oC",
        "outputId": "17c57877-01bb-422e-e41c-492946164c49"
      },
      "execution_count": null,
      "outputs": [
        {
          "output_type": "stream",
          "name": "stdout",
          "text": [
            "Enter the first string: 4\n",
            "Enter the second string: 7\n",
            "The strings are not anagrams.\n"
          ]
        }
      ]
    },
    {
      "cell_type": "markdown",
      "source": [
        "14.\tWrite a program to count the frequency of words in a given sentence."
      ],
      "metadata": {
        "id": "-F4hBWHA3anF"
      }
    },
    {
      "cell_type": "code",
      "source": [
        "sentence = input(\"Enter a sentence: \")\n",
        "\n",
        "words = sentence.split()\n",
        "\n",
        "word_count = {}\n",
        "\n",
        "for word in words:\n",
        "    if word in word_count:\n",
        "        word_count[word] += 1\n",
        "    else:\n",
        "        word_count[word] = 1\n",
        "\n",
        "print(word_count)\n"
      ],
      "metadata": {
        "colab": {
          "base_uri": "https://localhost:8080/"
        },
        "id": "T-qjqSmo3X9Q",
        "outputId": "21486d64-9868-42ce-f888-136dfc44acba"
      },
      "execution_count": null,
      "outputs": [
        {
          "output_type": "stream",
          "name": "stdout",
          "text": [
            "Enter a sentence: 2\n",
            "{'2': 1}\n"
          ]
        }
      ]
    },
    {
      "cell_type": "markdown",
      "source": [
        "15.\tCreate a function that replaces every occurrence of a substring with another substring in a string."
      ],
      "metadata": {
        "id": "IZ_W6PQT32kx"
      }
    },
    {
      "cell_type": "code",
      "source": [
        "text = \"Hello TCS Walo , Hello guys\"\n",
        "old_word = \"Hello\"\n",
        "new_word =\"Hi\"\n",
        "\n",
        "new_text = text.replace(old_word, new_word)\n",
        "\n",
        "print(new_text)\n"
      ],
      "metadata": {
        "colab": {
          "base_uri": "https://localhost:8080/"
        },
        "id": "ph8sjTGa31Dq",
        "outputId": "b8f90fcb-1221-478a-b9e8-516a0a7affff"
      },
      "execution_count": null,
      "outputs": [
        {
          "output_type": "stream",
          "name": "stdout",
          "text": [
            "Hi TCS Walo , Hi guys\n"
          ]
        }
      ]
    },
    {
      "cell_type": "markdown",
      "source": [
        "16.\tWrite a program that generates the first 10 Fibonacci numbers using iteration."
      ],
      "metadata": {
        "id": "nwfBHKBe4Fp6"
      }
    },
    {
      "cell_type": "code",
      "source": [
        "def fibonacci(n):\n",
        "  fib_numbers = [0, 1]\n",
        "  for i in range(2, n):\n",
        "    next_fib = fib_numbers[i-1] + fib_numbers[i-2]\n",
        "    fib_numbers.append(next_fib)\n",
        "  return fib_numbers\n",
        "\n",
        "print(fibonacci(10))\n"
      ],
      "metadata": {
        "colab": {
          "base_uri": "https://localhost:8080/"
        },
        "id": "eiyY51xV4D7L",
        "outputId": "9ac8c573-0871-45e2-aadc-fc5faa14ebbd"
      },
      "execution_count": null,
      "outputs": [
        {
          "output_type": "stream",
          "name": "stdout",
          "text": [
            "[0, 1, 1, 2, 3, 5, 8, 13, 21, 34]\n"
          ]
        }
      ]
    },
    {
      "cell_type": "markdown",
      "source": [
        "17.\tCreate a program that sums all even numbers from 1 to 100."
      ],
      "metadata": {
        "id": "FvC9ZdpK4Rzj"
      }
    },
    {
      "cell_type": "code",
      "source": [
        "total = 0\n",
        "for number in range(2, 101, 2):\n",
        "  total += number\n",
        "print(total)\n"
      ],
      "metadata": {
        "colab": {
          "base_uri": "https://localhost:8080/"
        },
        "id": "Q3rlQYZ14Eo2",
        "outputId": "7053033d-0988-4683-c858-d72457c37bd7"
      },
      "execution_count": null,
      "outputs": [
        {
          "output_type": "stream",
          "name": "stdout",
          "text": [
            "2550\n"
          ]
        }
      ]
    },
    {
      "cell_type": "markdown",
      "source": [
        "18.\tWrite a Python script that prints the multiplication table of a user-defined number."
      ],
      "metadata": {
        "id": "xtIIsDmc4cft"
      }
    },
    {
      "cell_type": "code",
      "source": [
        "number = int(input(\"Enter a number: \"))\n",
        "\n",
        "for i in range(1, 11):\n",
        "  print(number, \"x\", i, \"=\", number * i)\n"
      ],
      "metadata": {
        "colab": {
          "base_uri": "https://localhost:8080/"
        },
        "id": "gnHMXOQ44bjP",
        "outputId": "ee4c94cd-a81b-4aa0-e149-a7cb848559d0"
      },
      "execution_count": null,
      "outputs": [
        {
          "output_type": "stream",
          "name": "stdout",
          "text": [
            "Enter a number: 4\n",
            "4 x 1 = 4\n",
            "4 x 2 = 8\n",
            "4 x 3 = 12\n",
            "4 x 4 = 16\n",
            "4 x 5 = 20\n",
            "4 x 6 = 24\n",
            "4 x 7 = 28\n",
            "4 x 8 = 32\n",
            "4 x 9 = 36\n",
            "4 x 10 = 40\n"
          ]
        }
      ]
    },
    {
      "cell_type": "markdown",
      "source": [
        "19.\tDevelop a program that calculates the factorial of a number using a loop."
      ],
      "metadata": {
        "id": "6aTgA9BU4r-5"
      }
    },
    {
      "cell_type": "code",
      "source": [
        "def factorial(n):\n",
        "\n",
        "  if n == 0:\n",
        "    return 1\n",
        "  else:\n",
        "    factorial = 1\n",
        "    for i in range(1, n+1):\n",
        "      factorial *= i\n",
        "    return factorial\n",
        "\n",
        "n = 5\n",
        "result = factorial(n)\n",
        "print(result)\n"
      ],
      "metadata": {
        "colab": {
          "base_uri": "https://localhost:8080/"
        },
        "id": "Om1aeRZJ4oLu",
        "outputId": "e4809196-4184-44da-adef-6555c763bc74"
      },
      "execution_count": null,
      "outputs": [
        {
          "output_type": "stream",
          "name": "stdout",
          "text": [
            "120\n"
          ]
        }
      ]
    },
    {
      "cell_type": "markdown",
      "source": [
        "20.\tCreate a function that lists all prime numbers up to a specified limit."
      ],
      "metadata": {
        "id": "_a7PNIuz439T"
      }
    },
    {
      "cell_type": "code",
      "source": [
        "def prime_numbers(limit):\n",
        "  primes = []\n",
        "  for num in range(2, limit+1):\n",
        "    for i in range(2, int(num**0.5)+1):\n",
        "      if num % i == 0:\n",
        "        break\n",
        "    else:\n",
        "      primes.append(num)\n",
        "  return primes\n",
        "\n",
        "print(prime_numbers(20))\n"
      ],
      "metadata": {
        "colab": {
          "base_uri": "https://localhost:8080/"
        },
        "id": "hDHKkF_c4x51",
        "outputId": "1101ba78-1184-4e7e-f846-6a33c59a7a89"
      },
      "execution_count": null,
      "outputs": [
        {
          "output_type": "stream",
          "name": "stdout",
          "text": [
            "[2, 3, 5, 7, 11, 13, 17, 19]\n"
          ]
        }
      ]
    },
    {
      "cell_type": "markdown",
      "source": [
        "21.\tWrite a function that calculates the greatest common divisor (GCD) of two numbers."
      ],
      "metadata": {
        "id": "iSGlCJxj5Fda"
      }
    },
    {
      "cell_type": "code",
      "source": [
        "def gcd(a, b):\n",
        "    while b:\n",
        "        a, b = b, a % b\n",
        "    return a\n",
        "\n",
        "num1 = 48\n",
        "num2 = 18\n",
        "result = gcd(num1, num2)\n",
        "print(\"The GCD of\", num1, \"and\", num2, \"is:\", result)\n"
      ],
      "metadata": {
        "colab": {
          "base_uri": "https://localhost:8080/"
        },
        "id": "qBzKgid24_wC",
        "outputId": "94543b0c-9ef5-445d-f47f-4948ce324f55"
      },
      "execution_count": null,
      "outputs": [
        {
          "output_type": "stream",
          "name": "stdout",
          "text": [
            "The GCD of 48 and 18 is: 6\n"
          ]
        }
      ]
    },
    {
      "cell_type": "markdown",
      "source": [
        "22.\tCreate a Python function that takes a list of numbers and returns the largest number."
      ],
      "metadata": {
        "id": "ZmGP0e_F5UAq"
      }
    },
    {
      "cell_type": "code",
      "source": [
        "def find_largest(numbers):\n",
        "    largest = numbers[0]\n",
        "    for num in numbers:\n",
        "        if num > largest:\n",
        "            largest = num\n",
        "    return largest\n",
        "\n",
        "my_list = [5, 2, 9, 1, 7]\n",
        "result = find_largest(my_list)\n",
        "print(\"The largest number in the list is:\", result)\n"
      ],
      "metadata": {
        "colab": {
          "base_uri": "https://localhost:8080/"
        },
        "id": "ztXdiQWr5PMp",
        "outputId": "b05c4289-21e7-4da2-f550-c4869b501e43"
      },
      "execution_count": null,
      "outputs": [
        {
          "output_type": "stream",
          "name": "stdout",
          "text": [
            "The largest number in the list is: 9\n"
          ]
        }
      ]
    },
    {
      "cell_type": "markdown",
      "source": [
        "23.\tImplement a function for finding the factorial of a number using recursion."
      ],
      "metadata": {
        "id": "rXI0D_Xg5hgv"
      }
    },
    {
      "cell_type": "code",
      "source": [
        "def factorial(n):\n",
        "    if n == 0:\n",
        "        return 1\n",
        "    else:\n",
        "        return n * factorial(n - 1)\n",
        "\n",
        "num = int(input(\"Enter Number : \"))\n",
        "result = factorial(num)\n",
        "print(\"The factorial of\", num, \"is:\", result)\n"
      ],
      "metadata": {
        "colab": {
          "base_uri": "https://localhost:8080/"
        },
        "id": "OYknX8ev5esF",
        "outputId": "86fd03b5-1651-4434-fbff-73f90b0a0c02"
      },
      "execution_count": null,
      "outputs": [
        {
          "output_type": "stream",
          "name": "stdout",
          "text": [
            "Enter Number : 4\n",
            "The factorial of 4 is: 24\n"
          ]
        }
      ]
    },
    {
      "cell_type": "markdown",
      "source": [
        "24.\tWrite a program that utilizes global variables and demonstrates their use in functions."
      ],
      "metadata": {
        "id": "F-WriElm5zDt"
      }
    },
    {
      "cell_type": "code",
      "source": [
        "global_var = 10\n",
        "\n",
        "def increment_global():\n",
        "  global global_var\n",
        "  global_var += 1\n",
        "\n",
        "def print_global():\n",
        "  print(global_var)\n",
        "\n",
        "#for print\n",
        "print_global()\n",
        "increment_global()\n",
        "print_global()\n",
        "increment_global()\n",
        "print_global()\n"
      ],
      "metadata": {
        "colab": {
          "base_uri": "https://localhost:8080/"
        },
        "id": "BPdlADWh5q6i",
        "outputId": "e4273f20-0c03-4c49-c671-27f6282bae9e"
      },
      "execution_count": null,
      "outputs": [
        {
          "output_type": "stream",
          "name": "stdout",
          "text": [
            "10\n",
            "11\n",
            "12\n"
          ]
        }
      ]
    },
    {
      "cell_type": "markdown",
      "source": [
        "25.\tDevelop a module that contains utility functions for string manipulations."
      ],
      "metadata": {
        "id": "fw7ztokR5_f3"
      }
    },
    {
      "cell_type": "code",
      "source": [
        "def reverse_string(string):\n",
        "    return string[::-1]\n",
        "\n",
        "def count_vowels(string):\n",
        "    vowels = \"aeiouAEIOU\"\n",
        "    count = 0\n",
        "    for char in string:\n",
        "        if char in vowels:\n",
        "            count += 1\n",
        "    return count\n",
        "\n",
        "# Example usage:\n",
        "my_string = \"Hello, World!\"\n",
        "\n",
        "# Reverse the string\n",
        "reversed_string = reverse_string(my_string)\n",
        "print(\"Reversed string:\", reversed_string)\n",
        "\n",
        "# Count vowels in the string\n",
        "vowel_count = count_vowels(my_string)\n",
        "print(\"Number of vowels:\", vowel_count)\n"
      ],
      "metadata": {
        "colab": {
          "base_uri": "https://localhost:8080/"
        },
        "id": "p6oQ6Q2t57Hi",
        "outputId": "a6f1e9fa-289c-4918-8d66-efc0796503e8"
      },
      "execution_count": null,
      "outputs": [
        {
          "output_type": "stream",
          "name": "stdout",
          "text": [
            "Reversed string: !dlroW ,olleH\n",
            "Number of vowels: 3\n"
          ]
        }
      ]
    },
    {
      "cell_type": "markdown",
      "source": [
        "26.\tWrite a simple testing script that verifies the functionality of your calculator from a previous assignment."
      ],
      "metadata": {
        "id": "bJ7PIcAT6Ih8"
      }
    },
    {
      "cell_type": "code",
      "source": [
        "import unittest\n",
        "\n",
        "def test_calculator(num1, num2, operator, expected_result):\n",
        "    result = calculate(num1, num2, operator)\n",
        "    assert result == expected_result\n",
        "\n",
        "# Change_name_to__name__\n",
        "if __name__ == '__main__':\n",
        "    unittest.main()\n",
        "\n",
        "# Example usage with test cases:\n",
        "test_calculator(2, 3, '+', 5)\n",
        "test_calculator(5, 2, '-', 3)\n",
        "test_calculator(2, 3, '*', 6)\n",
        "test_calculator(6, 2, '/', 3)\n",
        "test_calculator(10, 0, '/', \"Error: Division by zero\")\n",
        "test_calculator(2, 3, '$', \"Invalid operator\")\n"
      ],
      "metadata": {
        "colab": {
          "base_uri": "https://localhost:8080/",
          "height": 329
        },
        "id": "ryyFpNwY6kj9",
        "outputId": "ec74ae40-fa25-4578-dd93-21c8d389fcd9"
      },
      "execution_count": null,
      "outputs": [
        {
          "output_type": "stream",
          "name": "stderr",
          "text": [
            "E\n",
            "======================================================================\n",
            "ERROR: /root/ (unittest.loader._FailedTest)\n",
            "----------------------------------------------------------------------\n",
            "AttributeError: module '__main__' has no attribute '/root/'\n",
            "\n",
            "----------------------------------------------------------------------\n",
            "Ran 1 test in 0.005s\n",
            "\n",
            "FAILED (errors=1)\n"
          ]
        },
        {
          "output_type": "error",
          "ename": "SystemExit",
          "evalue": "True",
          "traceback": [
            "An exception has occurred, use %tb to see the full traceback.\n",
            "\u001b[0;31mSystemExit\u001b[0m\u001b[0;31m:\u001b[0m True\n"
          ]
        },
        {
          "output_type": "stream",
          "name": "stderr",
          "text": [
            "/usr/local/lib/python3.10/dist-packages/IPython/core/interactiveshell.py:3561: UserWarning: To exit: use 'exit', 'quit', or Ctrl-D.\n",
            "  warn(\"To exit: use 'exit', 'quit', or Ctrl-D.\", stacklevel=1)\n"
          ]
        }
      ]
    },
    {
      "cell_type": "markdown",
      "source": [
        "27.\tCreate a program that includes debugging statements to show the flow of execution."
      ],
      "metadata": {
        "id": "ob9lVIIu8JHu"
      }
    },
    {
      "cell_type": "code",
      "source": [
        "def my_function(x, y):\n",
        "    print(\"Function called with x =\", x, \"and y =\", y)\n",
        "    result = x * y\n",
        "    print(\"Result:\", result)\n",
        "    return result\n",
        "\n",
        "result = my_function(5, 3)\n",
        "\n",
        "print(\"Returned result:\", result)\n"
      ],
      "metadata": {
        "colab": {
          "base_uri": "https://localhost:8080/"
        },
        "id": "HmCy1BE58Hex",
        "outputId": "6524f0c4-17c0-4a09-c930-4a845ead20f8"
      },
      "execution_count": null,
      "outputs": [
        {
          "output_type": "stream",
          "name": "stdout",
          "text": [
            "Function called with x = 5 and y = 3\n",
            "Result: 15\n",
            "Returned result: 15\n"
          ]
        }
      ]
    },
    {
      "cell_type": "markdown",
      "source": [
        "28.\tImplement a function and write unit tests to confirm its correctness using assertions."
      ],
      "metadata": {
        "id": "G9RIEmfR8XIf"
      }
    },
    {
      "cell_type": "code",
      "source": [
        "def is_prime(num):\n",
        "  \"\"\"Checks if a number is prime.\n",
        "\n",
        "  Args:\n",
        "    num: The number to check.\n",
        "\n",
        "  Returns:\n",
        "    True if the number is prime, False otherwise.\n",
        "  \"\"\"\n",
        "\n",
        "  if num <= 1:\n",
        "    return False\n",
        "  if num <= 3:\n",
        "    return True\n",
        "\n",
        "  for i in range(2, int(num**0.5) + 1):\n",
        "    if num % i == 0:\n",
        "      return False\n",
        "\n",
        "  return True"
      ],
      "metadata": {
        "id": "ONQH0cHy8Txy"
      },
      "execution_count": null,
      "outputs": []
    },
    {
      "cell_type": "markdown",
      "source": [
        "29.\tWrite a program that intentionally has a bug, and then demonstrate how to fix it."
      ],
      "metadata": {
        "id": "lTtzOPbf9QgM"
      }
    },
    {
      "cell_type": "markdown",
      "source": [],
      "metadata": {
        "id": "P6DSKTi19QQ8"
      }
    },
    {
      "cell_type": "code",
      "source": [
        "def factorial(n):\n",
        "  if n == 0:\n",
        "    return 1\n",
        "  else:\n",
        "    # Bug: n + 1 instead of n - 1\n",
        "    # return n * factorial(n + 1)\n",
        "\n",
        "    # Corrected:\n",
        "    return n * factorial(n - 1)\n",
        "\n",
        "# Example usage:\n",
        "num = 5\n",
        "result = factorial(num)\n",
        "print(\"The factorial of\", num, \"is:\", result)\n"
      ],
      "metadata": {
        "colab": {
          "base_uri": "https://localhost:8080/"
        },
        "id": "cKo7Ovw79Lpg",
        "outputId": "276cb538-d737-4685-a3d2-30f37cba9566"
      },
      "execution_count": null,
      "outputs": [
        {
          "output_type": "stream",
          "name": "stdout",
          "text": [
            "The factorial of 5 is: 120\n"
          ]
        }
      ]
    },
    {
      "cell_type": "markdown",
      "source": [
        "30.\tWrite a Python script to demonstrate the usage of tuples for storing coordinates"
      ],
      "metadata": {
        "id": "lNxFLqhK9hv7"
      }
    },
    {
      "cell_type": "code",
      "source": [
        "import logging\n",
        "\n",
        "def log_function_call(func):\n",
        "  def wrapper(*args, **kwargs):\n",
        "    print(f\"Calling {func.__name__} with args: {args}, kwargs: {kwargs}\")\n",
        "    result = func(*args, **kwargs)\n",
        "    print(f\"{func.__name__} returned: {result}\")\n",
        "    return result\n",
        "  return wrapper\n",
        "\n",
        "@log_function_call\n",
        "def add(x, y):\n",
        "  return x + y\n",
        "\n",
        "@log_function_call\n",
        "def subtract(x, y):\n",
        "  return x - y\n",
        "\n",
        "if __name__ == \"__main__\":\n",
        "  result_add = add(5, 3)\n",
        "  result_subtract = subtract(10, 4)\n"
      ],
      "metadata": {
        "colab": {
          "base_uri": "https://localhost:8080/"
        },
        "id": "-8tlIe9s9Xlc",
        "outputId": "a555fa4a-4b6e-4f85-8902-ca4992efae1a"
      },
      "execution_count": null,
      "outputs": [
        {
          "output_type": "stream",
          "name": "stdout",
          "text": [
            "Calling add with args: (5, 3), kwargs: {}\n",
            "add returned: 8\n",
            "Calling subtract with args: (10, 4), kwargs: {}\n",
            "subtract returned: 6\n"
          ]
        }
      ]
    },
    {
      "cell_type": "markdown",
      "source": [
        "31.\tCreate a program that uses lists and demonstrates mutability by modifying the list items."
      ],
      "metadata": {
        "id": "rsv2Yn349tZE"
      }
    },
    {
      "cell_type": "code",
      "source": [
        "# Define some coordinates using tuples\n",
        "point_1 = (2, 3)\n",
        "point_2 = (5, 7)\n",
        "point_3 = (0, -4)\n",
        "\n",
        "# Print the coordinates\n",
        "print(f\"Point 1: {point_1}\")\n",
        "print(f\"Point 2: {point_2}\")\n",
        "print(f\"Point 3: {point_3}\")\n",
        "\n",
        "# Access individual elements\n",
        "x1, y1 = point_1\n",
        "print(f\"Point 1 - x: {x1}, y: {y1}\")\n",
        "\n",
        "# Calculate the distance between two points\n",
        "import math\n",
        "\n",
        "def calculate_distance(p1, p2):\n",
        "    \"\"\"Calculate the Euclidean distance between two points.\"\"\"\n",
        "    return math.sqrt((p2[0] - p1[0]) ** 2 + (p2[1] - p1[1]) ** 2)\n",
        "\n",
        "distance = calculate_distance(point_1, point_2)\n",
        "print(f\"Distance between Point 1 and Point 2: {distance:.2f}\")\n",
        "\n",
        "# Create a list of points\n",
        "points = [point_1, point_2, point_3]\n",
        "\n",
        "# Find the point with the largest x-coordinate\n",
        "largest_x_point = max(points, key=lambda p: p[0])\n",
        "print(f\"Point with the largest x-coordinate: {largest_x_point}\")\n",
        "\n",
        "# Find the point closest to the origin (0, 0)\n",
        "origin = (0, 0)\n",
        "closest_to_origin = min(points, key=lambda p: calculate_distance(p, origin))\n",
        "print(f\"Point closest to the origin: {closest_to_origin}\")\n",
        "\n",
        "# Example of immutability\n",
        "try:\n",
        "    point_1[0] = 10  # Attempt to modify the tuple\n",
        "except TypeError as e:\n",
        "    print(f\"Error: {e}\")\n"
      ],
      "metadata": {
        "colab": {
          "base_uri": "https://localhost:8080/"
        },
        "id": "0qy_J5L19oHP",
        "outputId": "defdedb9-01ce-4d99-ed95-79b17e01281c"
      },
      "execution_count": null,
      "outputs": [
        {
          "output_type": "stream",
          "name": "stdout",
          "text": [
            "Point 1: (2, 3)\n",
            "Point 2: (5, 7)\n",
            "Point 3: (0, -4)\n",
            "Point 1 - x: 2, y: 3\n",
            "Distance between Point 1 and Point 2: 5.00\n",
            "Point with the largest x-coordinate: (5, 7)\n",
            "Point closest to the origin: (2, 3)\n",
            "Error: 'tuple' object does not support item assignment\n"
          ]
        }
      ]
    },
    {
      "cell_type": "markdown",
      "source": [
        "32.\tImplement a higher-order function that takes another function as an argument and applies it to a list."
      ],
      "metadata": {
        "id": "rl7Fdm-Y-E_e"
      }
    },
    {
      "cell_type": "code",
      "source": [
        "# Define a list of numbers\n",
        "numbers = [10, 20, 30, 40, 50]\n",
        "print(\"Original list:\", numbers)\n",
        "\n",
        "# Modify an element by index\n",
        "numbers[2] = 35\n",
        "print(\"After modifying the third element:\", numbers)\n",
        "\n",
        "# Append a new element to the list\n",
        "numbers.append(60)\n",
        "print(\"After appending 60:\", numbers)\n",
        "\n",
        "# Insert an element at a specific position\n",
        "numbers.insert(1, 15)\n",
        "print(\"After inserting 15 at index 1:\", numbers)\n",
        "\n",
        "# Remove an element by value\n",
        "numbers.remove(40)\n",
        "print(\"After removing 40:\", numbers)\n",
        "\n",
        "# Remove an element by index using pop()\n",
        "removed_item = numbers.pop(3)\n",
        "print(f\"After popping the element at index 3 ({removed_item}):\", numbers)\n",
        "\n",
        "# Extend the list with another list\n",
        "numbers.extend([70, 80, 90])\n",
        "print(\"After extending with [70, 80, 90]:\", numbers)\n",
        "\n",
        "# Sort the list in ascending order\n",
        "numbers.sort()\n",
        "print(\"After sorting in ascending order:\", numbers)\n",
        "\n",
        "# Reverse the list\n",
        "numbers.reverse()\n",
        "print(\"After reversing the list:\", numbers)\n"
      ],
      "metadata": {
        "colab": {
          "base_uri": "https://localhost:8080/"
        },
        "id": "Uf4fAOiZ9-lG",
        "outputId": "4121026b-d654-4eb7-8902-e215544ff8ae"
      },
      "execution_count": null,
      "outputs": [
        {
          "output_type": "stream",
          "name": "stdout",
          "text": [
            "Original list: [10, 20, 30, 40, 50]\n",
            "After modifying the third element: [10, 20, 35, 40, 50]\n",
            "After appending 60: [10, 20, 35, 40, 50, 60]\n",
            "After inserting 15 at index 1: [10, 15, 20, 35, 40, 50, 60]\n",
            "After removing 40: [10, 15, 20, 35, 50, 60]\n",
            "After popping the element at index 3 (35): [10, 15, 20, 50, 60]\n",
            "After extending with [70, 80, 90]: [10, 15, 20, 50, 60, 70, 80, 90]\n",
            "After sorting in ascending order: [10, 15, 20, 50, 60, 70, 80, 90]\n",
            "After reversing the list: [90, 80, 70, 60, 50, 20, 15, 10]\n"
          ]
        }
      ]
    },
    {
      "cell_type": "markdown",
      "source": [
        "33.\tWrite a program to simulate a simple inventory system using dictionaries."
      ],
      "metadata": {
        "id": "qtrSEAEW-Xej"
      }
    },
    {
      "cell_type": "code",
      "source": [
        "# Higher-order function\n",
        "def apply_to_list(func, data_list):\n",
        "    \"\"\"\n",
        "    Applies the given function to each element of the list.\n",
        "\n",
        "    :param func: A function to apply to each element.\n",
        "    :param data_list: A list of elements.\n",
        "    :return: A new list with the function applied to each element.\n",
        "    \"\"\"\n",
        "    return [func(item) for item in data_list]\n",
        "\n",
        "# Example functions to be used\n",
        "def square(x):\n",
        "    \"\"\"Returns the square of a number.\"\"\"\n",
        "    return x ** 2\n",
        "\n",
        "def double(x):\n",
        "    \"\"\"Returns double the value of a number.\"\"\"\n",
        "    return x * 2\n",
        "\n",
        "# Example usage\n",
        "numbers = [1, 2, 3, 4, 5]\n",
        "print(\"Original list:\", numbers)\n",
        "\n",
        "# Apply the square function\n",
        "squared_numbers = apply_to_list(square, numbers)\n",
        "print(\"Squared list:\", squared_numbers)\n",
        "\n",
        "# Apply the double function\n",
        "doubled_numbers = apply_to_list(double, numbers)\n",
        "print(\"Doubled list:\", doubled_numbers)\n",
        "\n",
        "# Use a lambda function\n",
        "incremented_numbers = apply_to_list(lambda x: x + 1, numbers)\n",
        "print(\"Incremented list:\", incremented_numbers)\n"
      ],
      "metadata": {
        "colab": {
          "base_uri": "https://localhost:8080/"
        },
        "id": "gGdL48d8-Wnu",
        "outputId": "32743f0d-7500-4842-dacc-b7d8c91f3ac3"
      },
      "execution_count": null,
      "outputs": [
        {
          "output_type": "stream",
          "name": "stdout",
          "text": [
            "Original list: [1, 2, 3, 4, 5]\n",
            "Squared list: [1, 4, 9, 16, 25]\n",
            "Doubled list: [2, 4, 6, 8, 10]\n",
            "Incremented list: [2, 3, 4, 5, 6]\n"
          ]
        }
      ]
    },
    {
      "cell_type": "markdown",
      "source": [
        "34.\tCreate a function that sorts a list of dictionaries by a specified key."
      ],
      "metadata": {
        "id": "zPCC5pXJ_hC8"
      }
    },
    {
      "cell_type": "code",
      "source": [
        "# Initialize the inventory dictionary\n",
        "inventory = {}\n",
        "\n",
        "# Function to add an item to the inventory\n",
        "def add_item(item_name, quantity):\n",
        "    \"\"\"\n",
        "    Adds an item to the inventory or updates its quantity.\n",
        "    \"\"\"\n",
        "    if item_name in inventory:\n",
        "        inventory[item_name] += quantity\n",
        "    else:\n",
        "        inventory[item_name] = quantity\n",
        "    print(f\"Added {quantity} of {item_name} to the inventory.\")\n",
        "\n",
        "# Function to remove an item from the inventory\n",
        "def remove_item(item_name, quantity):\n",
        "    \"\"\"\n",
        "    Removes a certain quantity of an item from the inventory.\n",
        "    \"\"\"\n",
        "    if item_name in inventory:\n",
        "        if inventory[item_name] >= quantity:\n",
        "            inventory[item_name] -= quantity\n",
        "            if inventory[item_name] == 0:\n",
        "                del inventory[item_name]\n",
        "            print(f\"Removed {quantity} of {item_name} from the inventory.\")\n",
        "        else:\n",
        "            print(f\"Not enough {item_name} in the inventory to remove {quantity}.\")\n",
        "    else:\n",
        "        print(f\"{item_name} is not in the inventory.\")\n",
        "\n",
        "# Function to display the current inventory\n",
        "def display_inventory():\n",
        "    \"\"\"\n",
        "    Displays all items in the inventory with their quantities.\n",
        "    \"\"\"\n",
        "    if inventory:\n",
        "        print(\"\\nCurrent Inventory:\")\n",
        "        for item, quantity in inventory.items():\n",
        "            print(f\"{item}: {quantity}\")\n",
        "    else:\n",
        "        print(\"\\nThe inventory is empty.\")\n",
        "\n",
        "# Example Usage\n",
        "if __name__ == \"__main__\":\n",
        "    while True:\n",
        "        print(\"\\nInventory Management System\")\n",
        "        print(\"1. Add Item\")\n",
        "        print(\"2. Remove Item\")\n",
        "        print(\"3. Display Inventory\")\n",
        "        print(\"4. Exit\")\n",
        "\n",
        "        choice = input(\"Enter your choice: \")\n",
        "        if choice == \"1\":\n",
        "            item = input(\"Enter the item name: \")\n",
        "            qty = int(input(f\"Enter the quantity of {item}: \"))\n",
        "            add_item(item, qty)\n",
        "        elif choice == \"2\":\n",
        "            item = input\n"
      ],
      "metadata": {
        "colab": {
          "base_uri": "https://localhost:8080/"
        },
        "id": "o8QUcwST_gcF",
        "outputId": "e3377897-7b2d-40a8-a2c6-b329aa1dba20"
      },
      "execution_count": null,
      "outputs": [
        {
          "output_type": "stream",
          "name": "stdout",
          "text": [
            "\n",
            "Inventory Management System\n",
            "1. Add Item\n",
            "2. Remove Item\n",
            "3. Display Inventory\n",
            "4. Exit\n",
            "Enter your choice: 1\n",
            "Enter the item name: add item\n",
            "Enter the quantity of add item: 2\n",
            "Added 2 of add item to the inventory.\n",
            "\n",
            "Inventory Management System\n",
            "1. Add Item\n",
            "2. Remove Item\n",
            "3. Display Inventory\n",
            "4. Exit\n",
            "Enter your choice: 1\n",
            "Enter the item name: 4\n",
            "Enter the quantity of 4: 2\n",
            "Added 2 of 4 to the inventory.\n",
            "\n",
            "Inventory Management System\n",
            "1. Add Item\n",
            "2. Remove Item\n",
            "3. Display Inventory\n",
            "4. Exit\n"
          ]
        }
      ]
    },
    {
      "cell_type": "markdown",
      "source": [
        "35.\tWrite a program that reads a file and handles exceptions if the file does not exist."
      ],
      "metadata": {
        "id": "I0vAydLyBBK1"
      }
    },
    {
      "cell_type": "code",
      "source": [
        "def read_file(file_path):\n",
        "    \"\"\"\n",
        "    Reads the content of a file and prints it line by line.\n",
        "    Handles the case where the file does not exist.\n",
        "\n",
        "    :param file_path: Path to the file to be read.\n",
        "    \"\"\"\n",
        "    try:\n",
        "        with open(file_path, 'r') as file:\n",
        "            print(f\"Reading file: {file_path}\\n\")\n",
        "            for line in file:\n",
        "                print(line.strip())\n",
        "    except FileNotFoundError:\n",
        "        print(f\"Error: The file '{file_path}' does not exist.\")\n",
        "    except IOError as e:\n",
        "        print(f\"Error: An I/O error occurred: {e}\")\n",
        "\n",
        "# Example usage\n",
        "if __name__ == \"__main__\":\n",
        "    # Specify the file path\n",
        "    file_path = input(\"Enter the path of the file to read: \")\n",
        "\n",
        "    # Attempt to read the file\n",
        "    read_file(file_path)\n"
      ],
      "metadata": {
        "id": "9alR1n5PAMbI"
      },
      "execution_count": null,
      "outputs": []
    },
    {
      "cell_type": "markdown",
      "source": [
        "36.\tCreate a function that raises an exception if the input is not a positive number."
      ],
      "metadata": {
        "id": "gEb9y7WHBs4q"
      }
    },
    {
      "cell_type": "code",
      "source": [
        "def check_positive_number(value):\n",
        "    \"\"\"\n",
        "    Checks if the input value is a positive number.\n",
        "    Raises an exception if the value is not a positive number.\n",
        "\n",
        "    :param value: The value to check.\n",
        "    :raises ValueError: If the value is not a positive number.\n",
        "    \"\"\"\n",
        "    if not isinstance(value, (int, float)):\n",
        "        raise ValueError(f\"Input must be a number. Received: {type(value).__name__}\")\n",
        "    if value <= 0:\n",
        "        raise ValueError(f\"Input must be a positive number. Received: {value}\")\n",
        "    print(f\"Input is a valid positive number: {value}\")\n",
        "\n",
        "# Example usage\n",
        "if __name__ == \"__main__\":\n",
        "    try:\n",
        "        num = float(input(\"Enter a number: \"))\n",
        "        check_positive_number(num)\n",
        "    except ValueError as e:\n",
        "        print(f\"Error: {e}\")\n"
      ],
      "metadata": {
        "id": "8qTRJAdJBrj2"
      },
      "execution_count": null,
      "outputs": []
    },
    {
      "cell_type": "markdown",
      "source": [
        "37.\tImplement a program that uses assertions to check the validity of user input."
      ],
      "metadata": {
        "id": "ozIga549CADJ"
      }
    },
    {
      "cell_type": "code",
      "source": [
        "def get_positive_number():\n",
        "    \"\"\"\n",
        "    Prompts the user to enter a positive number and validates the input using assertions.\n",
        "\n",
        "    :return: A valid positive number.\n",
        "    \"\"\"\n",
        "    number = float(input(\"Enter a positive number: \"))\n",
        "    # Assert that the input is positive\n",
        "    assert number > 0, f\"AssertionError: The input must be a positive number. Received: {number}\"\n",
        "    return number\n",
        "\n",
        "# Example usage\n",
        "if __name__ == \"__main__\":\n",
        "    try:\n",
        "        result = get_positive_number()\n",
        "        print(f\"Valid input received: {result}\")\n",
        "    except AssertionError as e:\n",
        "        print(e)\n"
      ],
      "metadata": {
        "id": "Ixmn8GaSB_Jy"
      },
      "execution_count": null,
      "outputs": []
    },
    {
      "cell_type": "markdown",
      "source": [
        "38.\tWrite a function to demonstrate the use of try-except blocks when dividing numbers."
      ],
      "metadata": {
        "id": "7G_7r5b7CLJB"
      }
    },
    {
      "cell_type": "code",
      "source": [
        "def safe_divide(a, b):\n",
        "    \"\"\"\n",
        "    Performs division of two numbers with error handling.\n",
        "\n",
        "    :param a: Numerator (dividend).\n",
        "    :param b: Denominator (divisor).\n",
        "    :return: The result of the division if successful, or an error message if an exception occurs.\n",
        "    \"\"\"\n",
        "    try:\n",
        "        result = a / b\n",
        "        return f\"The result of {a} divided by {b} is: {result}\"\n",
        "    except ZeroDivisionError:\n",
        "        return \"Error: Division by zero is not allowed.\"\n",
        "    except TypeError:\n",
        "        return \"Error: Both inputs must be numbers.\"\n",
        "    except Exception as e:\n",
        "        return f\"An unexpected error occurred: {e}\"\n",
        "\n",
        "# Example usage\n",
        "if __name__ == \"__main__\":\n",
        "    try:\n",
        "        numerator = float(input(\"Enter the numerator: \"))\n",
        "        denominator = float(input(\"Enter the denominator: \"))\n",
        "        print(safe_divide(numerator, denomin\n"
      ],
      "metadata": {
        "id": "0f5n1KCuCJ5V"
      },
      "execution_count": null,
      "outputs": []
    },
    {
      "cell_type": "markdown",
      "source": [
        "39.\tCreate a program that captures and logs exceptions thrown in a mathematical computation."
      ],
      "metadata": {
        "id": "SoefTdFpCqZM"
      }
    },
    {
      "cell_type": "code",
      "source": [
        "def safe_divide(a, b):\n",
        "    \"\"\"\n",
        "    Performs division of two numbers with error handling.\n",
        "\n",
        "    :param a: Numerator (dividend).\n",
        "    :param b: Denominator (divisor).\n",
        "    :return: The result of the division if successful, or an error message if an exception occurs.\n",
        "    \"\"\"\n",
        "    try:\n",
        "        result = a / b\n",
        "        return f\"The result of {a} divided by {b} is: {result}\"\n",
        "    except ZeroDivisionError:\n",
        "        return \"Error: Division by zero is not allowed.\"\n",
        "    except TypeError:\n",
        "        return \"Error: Both inputs must be numbers.\"\n",
        "    except Exception as e:\n",
        "        return f\"An unexpected error occurred: {e}\"\n",
        "\n",
        "# Example usage\n",
        "if __name__ == \"__main__\":\n",
        "    try:\n",
        "        numerator = float(input(\"Enter the numerator: \"))\n",
        "        denominator = float(input(\"Enter the denominator: \"))\n",
        "        print(safe_divide(numerator, denomin\n"
      ],
      "metadata": {
        "id": "zTIzjZjFCjQD"
      },
      "execution_count": null,
      "outputs": []
    },
    {
      "cell_type": "markdown",
      "source": [
        "40.\tDefine a class for a Rectangle that calculates the area and perimeter."
      ],
      "metadata": {
        "id": "upxzcXowCxmP"
      }
    },
    {
      "cell_type": "code",
      "source": [
        "import logging\n",
        "\n",
        "# Configure logging\n",
        "logging.basicConfig(\n",
        "    filename=\"exception_log.txt\",\n",
        "    level=logging.ERROR,\n",
        "    format=\"%(asctime)s - %(levelname)s - %(message)s\"\n",
        ")\n",
        "\n",
        "def perform_math_operation(a, b, operation):\n",
        "    \"\"\"\n",
        "    Performs a mathematical operation on two numbers and logs any exceptions.\n",
        "\n",
        "    :param a: First number.\n",
        "    :param b: Second number.\n",
        "    :param operation: The mathematical operation ('add', 'subtract', 'multiply', 'divide').\n",
        "    :return: The result of the operation or None if an exception occurs.\n",
        "    \"\"\"\n",
        "    try:\n",
        "        if operation == \"add\":\n",
        "            return a + b\n",
        "        elif operation == \"subtract\":\n",
        "            return a - b\n",
        "        elif operation == \"multiply\":\n",
        "            return a * b\n",
        "        elif operation == \"divide\":\n",
        "            return a / b\n",
        "        else:\n",
        "            raise ValueError(f\"Unknown operation: {operation}\")\n",
        "    except Exception as e:\n",
        "        logging.error(f\"Error during operation '{operation}' with inputs ({a}, {b}): {e}\")\n",
        "        print(f\"An error occurred: {e}. Check the log file for details.\")\n",
        "        return None\n",
        "\n",
        "# Example usage\n",
        "if __name__ == \"__main__\":\n",
        "    try:\n",
        "        num1 = float(input(\"Enter the first number: \"))\n",
        "        num2 = float(input(\"Enter the second number: \"))\n",
        "        op = input(\"Enter the operation (add, subtract, multiply, divide): \").strip().lower()\n",
        "\n",
        "        result = perform_math_operation(num1, num2, op)\n",
        "\n"
      ],
      "metadata": {
        "id": "z1yYK6n4Cwe8"
      },
      "execution_count": null,
      "outputs": []
    },
    {
      "cell_type": "markdown",
      "source": [
        "41.\tCreate a class that models a BankAccount with methods to deposit and withdraw funds."
      ],
      "metadata": {
        "id": "2H0Nqn_ODLMV"
      }
    },
    {
      "cell_type": "code",
      "source": [
        "class BankAccount:\n",
        "    def __init__(self, initial_balance=0):\n",
        "        self.balance = initial_balance\n",
        "\n",
        "    def deposit(self, amount):\n",
        "        if amount > 0:\n",
        "            self.balance += amount\n",
        "            print(f\"Deposited {amount} rupees. New balance: {self.balance}\")\n",
        "        else:\n",
        "            print(\"Invalid deposit amount\")\n",
        "\n",
        "    def withdraw(self, amount):\n",
        "        if 0 < amount <= self.balance:\n",
        "            self.balance -= amount\n",
        "            print(f\"Withdrew {amount} rupees. New balance: {self.balance}\")\n",
        "        elif amount > self.balance:\n",
        "            print(\"Insufficient balance\")\n",
        "        else:\n",
        "            print(\"Invalid withdrawal amount\")"
      ],
      "metadata": {
        "id": "v9kE6nDMC8H2"
      },
      "execution_count": null,
      "outputs": []
    },
    {
      "cell_type": "markdown",
      "source": [
        "42.\tImplement inheritance by creating a Circle class that inherits from a Shape class."
      ],
      "metadata": {
        "id": "qt2EvttGEVfC"
      }
    },
    {
      "cell_type": "code",
      "source": [
        "class Shape:\n",
        "    def __init__(self, color):\n",
        "        self.color = color\n",
        "\n",
        "    def get_color(self):\n",
        "        return self.color\n",
        "\n",
        "class Circle(Shape):\n",
        "    def __init__(self, color, radius):\n",
        "        super().__init__(color)\n",
        "        self.radius = radius\n",
        "\n",
        "    def get_area(self):\n",
        "        return 3.14159 * self.radius**2"
      ],
      "metadata": {
        "id": "dK1QRcVREUNJ"
      },
      "execution_count": null,
      "outputs": []
    },
    {
      "cell_type": "markdown",
      "source": [
        "43.\tWrite a program that demonstrates encapsulation through private class members."
      ],
      "metadata": {
        "id": "GOudg8nSEj_T"
      }
    },
    {
      "cell_type": "code",
      "source": [
        "class EncapsulationExample:\n",
        "    def __init__(self, private_value):\n",
        "        self.__private_value = private_value  # Private attribute\n",
        "\n",
        "    def get_private_value(self):\n",
        "        return self.__private_value\n",
        "\n",
        "    def set_private_value(self, new_value):\n",
        "        self.__private_value = new_value\n",
        "\n",
        "obj = EncapsulationExample(10)\n",
        "print(obj.get_private_value())\n",
        "\n",
        "obj.set_private_value(20)\n",
        "print(obj.get_private_value())"
      ],
      "metadata": {
        "id": "l6ABuH07Ejeh"
      },
      "execution_count": null,
      "outputs": []
    },
    {
      "cell_type": "markdown",
      "source": [
        "44.\tCreate an abstract class Animal with subclasses for Dog and Cat."
      ],
      "metadata": {
        "id": "DOG2lS6xEu6T"
      }
    },
    {
      "cell_type": "code",
      "source": [
        "class Animal:\n",
        "    def make_sound(self):\n",
        "        pass\n",
        "\n",
        "class Dog(Animal):\n",
        "    def make_sound(self):\n",
        "        print(\"Woof!\")\n",
        "\n",
        "class Cat(Animal):\n",
        "    def make_sound(self):\n",
        "        print(\"Meow!\")"
      ],
      "metadata": {
        "id": "TWmNzzP5Euaz"
      },
      "execution_count": null,
      "outputs": []
    },
    {
      "cell_type": "markdown",
      "source": [
        "45.\tImplement a binary search algorithm on a sorted list of numbers."
      ],
      "metadata": {
        "id": "a5yCXRp8E6EF"
      }
    },
    {
      "cell_type": "code",
      "source": [
        "def binary_search(arr, x):\n",
        "    low = 0\n",
        "    high = len(arr) - 1\n",
        "    mid = 0\n",
        "\n",
        "    while low <= high:\n",
        "        mid = (high + low) // 2\n",
        "\n",
        "        if arr[mid] < x:\n",
        "            low = mid + 1\n",
        "        elif arr[mid] > x:\n",
        "            high = mid - 1\n",
        "        else:\n",
        "            return mid\n",
        "    return -1"
      ],
      "metadata": {
        "id": "1G5pevZXE5hf"
      },
      "execution_count": null,
      "outputs": []
    },
    {
      "cell_type": "markdown",
      "source": [
        "46.\tWrite a sorting algorithm (e.g., bubble sort) and test its functionality."
      ],
      "metadata": {
        "id": "sSNxQxU5FO0D"
      }
    },
    {
      "cell_type": "code",
      "source": [
        "def bubble_sort(arr):\n",
        "    n = len(arr)\n",
        "    for i in range(n):\n",
        "        for j in range(0, n-i-1):\n",
        "            if arr[j] > arr[j+1] :\n",
        "                arr[j], arr[j+1] = arr[j+1], arr[j]\n",
        "\n",
        "arr = [64, 34, 25, 12, 22, 11, 90]\n",
        "bubble_sort(arr)\n",
        "print(arr)"
      ],
      "metadata": {
        "id": "h3PzBM9kFLoK"
      },
      "execution_count": null,
      "outputs": []
    },
    {
      "cell_type": "markdown",
      "source": [
        "47.\tCreate a program that utilizes a hashtable to store and retrieve key-value pairs."
      ],
      "metadata": {
        "id": "gUQwrK9rFZwB"
      }
    },
    {
      "cell_type": "code",
      "source": [
        "hash_table = {}\n",
        "\n",
        "def add(key, value):\n",
        "    hash_table[key] = value\n",
        "\n",
        "def get(key):\n",
        "    return hash_table.get(key)\n",
        "\n",
        "add(\"name\", \"Alice\")\n",
        "add(\"age\", 30)\n",
        "\n",
        "print(get(\"name\"))\n",
        "print(get(\"age\"))"
      ],
      "metadata": {
        "id": "zYy2CT5KFZGq"
      },
      "execution_count": null,
      "outputs": []
    },
    {
      "cell_type": "markdown",
      "source": [
        "48.\tDevelop a function that sorts a list of dictionaries based on the values of a specific key."
      ],
      "metadata": {
        "id": "4Td_8LpRFzcW"
      }
    },
    {
      "cell_type": "code",
      "source": [
        "def sort_by_key(list_of_dicts, key):\n",
        "    return sorted(list_of_dicts, key=lambda x: x[key])\n",
        "\n",
        "# Example usage\n",
        "data = [{'name': 'Alice', 'age': 30}, {'name': 'Bob', 'age': 25}, {'name': 'Charlie', 'age': 35}]\n",
        "sorted_data = sort_by_key(data, 'age')\n",
        "print(sorted_data)"
      ],
      "metadata": {
        "id": "agYEuBOfFy3Z"
      },
      "execution_count": null,
      "outputs": []
    },
    {
      "cell_type": "markdown",
      "source": [
        "49.\tWrite a program that implements a breadth-first search for a graph structure."
      ],
      "metadata": {
        "id": "SH0XRLZ6F_EZ"
      }
    },
    {
      "cell_type": "code",
      "source": [
        "def sort_by_key(list_of_dicts, key):\n",
        "    return sorted(list_of_dicts, key=lambda x: x[key])\n",
        "\n",
        "# Example usage\n",
        "data = [{'name': 'Alice', 'age': 30}, {'name': 'Bob', 'age': 25}, {'name': 'Charlie', 'age': 35}]\n",
        "sorted_data = sort_by_key(data, 'age')\n",
        "print(sorted_data)"
      ],
      "metadata": {
        "id": "w3blVxFgF65h"
      },
      "execution_count": null,
      "outputs": []
    },
    {
      "cell_type": "markdown",
      "source": [
        "50.\tUse Matplotlib to plot a simple line graph representing a mathematical function."
      ],
      "metadata": {
        "id": "MorTjBJZGRFj"
      }
    },
    {
      "cell_type": "code",
      "source": [
        "import matplotlib.pyplot as plt\n",
        "import numpy as np\n",
        "\n",
        "x = np.linspace(0, 10, 100)\n",
        "y = np.sin(x)\n",
        "\n",
        "plt.plot(x, y)\n",
        "plt.xlabel('x')\n",
        "plt.ylabel('sin(x)')\n",
        "plt.title('Sine Wave')\n",
        "plt.show()"
      ],
      "metadata": {
        "id": "hrs1ui_QGQML"
      },
      "execution_count": null,
      "outputs": []
    },
    {
      "cell_type": "markdown",
      "source": [
        "51.\tCreate a program that plots a scatter plot for random data point."
      ],
      "metadata": {
        "id": "ZF46GMzGGd25"
      }
    },
    {
      "cell_type": "code",
      "source": [
        "import matplotlib.pyplot as plt\n",
        "import numpy as np\n",
        "\n",
        "x = np.random.rand(100)\n",
        "y = np.random.rand(100)\n",
        "\n",
        "plt.scatter(x, y)\n",
        "plt.xlabel('X-axis')\n",
        "plt.ylabel('Y-axis')\n",
        "plt.title('Random Scatter Plot')\n",
        "plt.show()"
      ],
      "metadata": {
        "id": "9BWgIPOTGdY4"
      },
      "execution_count": null,
      "outputs": []
    },
    {
      "cell_type": "markdown",
      "source": [
        "52.\tImplement a bar chart visualizing sales data over a month."
      ],
      "metadata": {
        "id": "Rv0s2irXGsKZ"
      }
    },
    {
      "cell_type": "code",
      "source": [
        "import matplotlib.pyplot as plt\n",
        "import numpy as np\n",
        "\n",
        "months = ['Jan', 'Feb', 'Mar', 'Apr', 'May', 'Jun']\n",
        "sales = [1000, 1500, 1200, 1800, 2000, 1600]\n",
        "\n",
        "plt.bar(months, sales)\n",
        "plt.xlabel('Month')\n",
        "plt.ylabel('Sales')\n",
        "plt.title('Monthly Sales')\n",
        "plt.show()"
      ],
      "metadata": {
        "id": "uO5WNMd-G7Cj"
      },
      "execution_count": null,
      "outputs": []
    },
    {
      "cell_type": "markdown",
      "source": [
        "53.\tWrite a program that demonstrates plotting the Fibonacci sequence with PyLab."
      ],
      "metadata": {
        "id": "2JGg-KpOHDvb"
      }
    },
    {
      "cell_type": "code",
      "source": [
        "import matplotlib.pyplot as plt\n",
        "import numpy as np\n",
        "\n",
        "def fibonacci(n):\n",
        "    if n <= 0:\n",
        "        return 0\n",
        "    elif n == 1:\n",
        "        return 1\n",
        "    else:\n",
        "        return fibonacci(n-1) + fibonacci(n-2)\n",
        "\n",
        "n = 10\n",
        "x = np.arange(n)\n",
        "y = [fibonacci(i) for i in x]\n",
        "\n",
        "plt.plot(x, y)\n",
        "plt.xlabel('Index')\n",
        "plt.ylabel('Fibonacci Number')\n",
        "plt.title('Fibonacci Sequence')\n",
        "plt.show()"
      ],
      "metadata": {
        "id": "SG89Hqx9HANk"
      },
      "execution_count": null,
      "outputs": []
    },
    {
      "cell_type": "markdown",
      "source": [
        "54.\tCreate a function that plots the trajectory of a projectile motion."
      ],
      "metadata": {
        "id": "ETL1D9MFHPHE"
      }
    },
    {
      "cell_type": "code",
      "source": [
        "import matplotlib.pyplot as plt\n",
        "import numpy as np\n",
        "\n",
        "def fibonacci(n):\n",
        "    if n <= 0:\n",
        "        return 0\n",
        "    elif n == 1:\n",
        "        return 1\n",
        "    else:\n",
        "        return fibonacci(n-1) + fibonacci(n-2)\n",
        "\n",
        "n = 10\n",
        "x = np.arange(n)\n",
        "y = [fibonacci(i) for i in x]\n",
        "\n",
        "plt.plot(x, y)\n",
        "plt.xlabel('Index')\n",
        "plt.ylabel('Fibonacci Number')\n",
        "plt.title('Fibonacci Sequence')\n",
        "plt.show()"
      ],
      "metadata": {
        "id": "X1u5ZJokHMUP"
      },
      "execution_count": null,
      "outputs": []
    },
    {
      "cell_type": "markdown",
      "source": [
        "55.\tImplement the 0/1 knapsack algorithm to solve a simple problem."
      ],
      "metadata": {
        "id": "oCphZSaAHZ4R"
      }
    },
    {
      "cell_type": "code",
      "source": [
        "def knapsack(W, wt, val, n):\n",
        "    K = [[0 for x in range(W+1)] for x in range(n+1)]\n",
        "    for i in range(n+1):\n",
        "        for w in range(W+1):\n",
        "            if i==0 or w==0:\n",
        "                K[i][w] = 0\n",
        "            elif wt[i-1] <= w:\n",
        "                K[i][w] = max(val[i-1] + K[i-1][w-wt[i-1]],  K[i-1][w])\n",
        "            else:\n",
        "                K[i][w] = K[i-1][w]\n",
        "    return K[n][W]\n",
        "\n",
        "val = [60, 100, 120]\n",
        "wt = [10, 20, 30]\n",
        "W = 50\n",
        "n = len(val)\n",
        "print(knapsack(W, wt, val, n))"
      ],
      "metadata": {
        "id": "VZn2nL34HWvw"
      },
      "execution_count": null,
      "outputs": []
    },
    {
      "cell_type": "markdown",
      "source": [
        "56.\tWrite a dynamic programming solution for finding the longest common subsequence."
      ],
      "metadata": {
        "id": "ipLouUF1HnXd"
      }
    },
    {
      "cell_type": "code",
      "source": [
        "def lcs(X, Y, m, n):\n",
        "    L = [[0 for x in range(n+1)] for x in range(m+1)]\n",
        "\n",
        "    for i in range(m+1):\n",
        "        for j in range(n+1):\n",
        "            if i == 0 or j == 0:\n",
        "                L[i][j] = 0\n",
        "            elif X[i-1] == Y[j-1]:\n",
        "                L[i][j] = L[i-1][j-1] + 1\n",
        "            else:\n",
        "                L[i][j] = max(L[i-1][j], L[i][j-1])\n",
        "\n",
        "    return L[m][n]\n",
        "\n",
        "X = \"AGGTAB\"\n",
        "Y = \"GXTXAYB\"\n",
        "m = len(X)\n",
        "n = len(Y)\n",
        "print(\"Length of LCS is\", lcs(X, Y, m, n))"
      ],
      "metadata": {
        "id": "CzzQBP4rHmzu"
      },
      "execution_count": null,
      "outputs": []
    },
    {
      "cell_type": "markdown",
      "source": [
        "57.\tCreate a program to visualize dynamic programming approaches for the Fibonacci sequence."
      ],
      "metadata": {
        "id": "T4fQJvr9Hzxc"
      }
    },
    {
      "cell_type": "code",
      "source": [
        "import matplotlib.pyplot as plt\n",
        "import numpy as np\n",
        "\n",
        "def fib_dp(n):\n",
        "    fib_numbers = [0, 1]\n",
        "    for i in range(2, n+1):\n",
        "        fib_numbers.append(fib_numbers[i-1] + fib_numbers[i-2])\n",
        "    return fib_numbers\n",
        "\n",
        "n = 10\n",
        "fib_nums = fib_dp(n)\n",
        "x = np.arange(n+1)\n",
        "\n",
        "plt.plot(x, fib_nums)\n",
        "plt.xlabel('Index')\n",
        "plt.ylabel('Fibonacci Number')\n",
        "plt.title('Fibonacci Sequence (Dynamic Programming)')\n",
        "plt.show()"
      ],
      "metadata": {
        "id": "WTQTr7UNHzC1"
      },
      "execution_count": null,
      "outputs": []
    },
    {
      "cell_type": "markdown",
      "source": [
        "58.\tDevelop a divide-and-conquer algorithm to sort an array."
      ],
      "metadata": {
        "id": "qE431EoRH_q_"
      }
    },
    {
      "cell_type": "code",
      "source": [
        "def merge(left, right):\n",
        "    result = []\n",
        "    i, j = 0, 0\n",
        "    while i < len(left) and j < len(right):\n",
        "        result.append(left[i] if left[i] <= right[j] else right[j])\n",
        "        i += left[i] <= right[j]\n",
        "        j += left[i] > right[j]\n",
        "    result += left[i:]\n",
        "    result += right[j:]\n",
        "    return result\n",
        "\n",
        "def merge_sort(arr):\n",
        "    if len(arr) <= 1:\n",
        "        return arr\n",
        "    mid = len(arr) // 2\n",
        "    left_half = arr[:mid]\n",
        "    right_half = arr[mid:]\n",
        "    left_half = merge_sort(left_half)\n",
        "    right_half = merge_sort(right_half)\n",
        "    return merge(left_half, right_half)\n",
        "\n",
        "arr = [38, 27, 43, 3, 9, 82,]\n",
        "sorted_arr = merge_sort(arr)\n",
        "print(sorted_arr)"
      ],
      "metadata": {
        "id": "oZ7NnEJxH_KL"
      },
      "execution_count": null,
      "outputs": []
    },
    {
      "cell_type": "markdown",
      "source": [
        "59.\tWrite a Python function that uses memoization to optimize a recursive problem."
      ],
      "metadata": {
        "id": "YWe86rOXILn-"
      }
    },
    {
      "cell_type": "code",
      "source": [
        "def fib_memo(n, memo={}):\n",
        "    if n in memo:\n",
        "        return memo[n]\n",
        "    if n <= 1:\n",
        "        return n\n",
        "    memo[n] = fib_memo(n-1, memo) + fib_memo(n-2, memo)\n",
        "    return memo[n]"
      ],
      "metadata": {
        "id": "4_mEKuIFILJW"
      },
      "execution_count": null,
      "outputs": []
    },
    {
      "cell_type": "markdown",
      "source": [
        "60.\tCreate an application that manages a library system with classes for Book and Library."
      ],
      "metadata": {
        "id": "akYvtuazIWBx"
      }
    },
    {
      "cell_type": "code",
      "source": [
        "class Book:\n",
        "    def __init__(self, title, author, isbn):\n",
        "        self.title = title\n",
        "        self.author = author\n",
        "        self.isbn = isbn\n",
        "        self.is_available = True\n",
        "\n",
        "class Library:\n",
        "    def __init__(self):\n",
        "        self.books = []\n",
        "\n",
        "    def add_book(self, book):\n",
        "        self.books.append(book)\n",
        "\n",
        "    def remove_book(self, isbn):\n",
        "        for i, book in enumerate(self.books):\n",
        "            if book.isbn == isbn:\n",
        "                del self.books[i]\n",
        "                break\n",
        "\n",
        "    def search_book(self, title):\n",
        "        for book in self.books:\n",
        "            if book.title == title:\n",
        "                return book\n",
        "        return None\n",
        "\n",
        "library = Library()\n",
        "\n",
        "book1 = Book(\"The Lord of the Rings\", \"J.R.R. Tolkien\", \"9780547991029\")\n",
        "book2 = Book(\"Pride and Prejudice\", \"Jane Austen\", \"9780141439487\")\n",
        "\n",
        "library.add_book(book1)\n",
        "library.add_book(book2)\n",
        "\n",
        "search_result = library.search_book(\"Pride and Prejudice\")\n",
        "if search_result:\n",
        "    print(f\"Found book: {search_result.title} by {search_result.author}\")\n",
        "else:\n",
        "    print(\"Book not found\")"
      ],
      "metadata": {
        "id": "CeIG_mt2IVlP"
      },
      "execution_count": null,
      "outputs": []
    },
    {
      "cell_type": "markdown",
      "source": [
        "61.\tImplement a simple game (e.g., Guess the Number) using branching and loops."
      ],
      "metadata": {
        "id": "F3q2cS-xImRf"
      }
    },
    {
      "cell_type": "code",
      "source": [
        "import random\n",
        "\n",
        "target_number = random.randint(1, 100)\n",
        "attempts = 0\n",
        "\n",
        "while True:\n",
        "    user_guess = int(input(\"Guess the number (between 1 and 100): \"))\n",
        "    attempts += 1"
      ],
      "metadata": {
        "id": "-C_FSRmqJedK"
      },
      "execution_count": null,
      "outputs": []
    },
    {
      "cell_type": "markdown",
      "source": [
        "62.\tWrite a Python program that scrapes data from a website and processes it."
      ],
      "metadata": {
        "id": "g59YtbaHJu2b"
      }
    },
    {
      "cell_type": "code",
      "source": [
        "import requests\n",
        "from bs4 import BeautifulSoup\n",
        "\n",
        "def scrape_website(url):\n",
        "    response = requests.get(url)\n",
        "    soup = BeautifulSoup(response.content, 'html.parser')\n",
        "    products = soup.find_all('div', class_='product-item')\n",
        "    for product in products:\n",
        "        title = product.find('h2', class_='product-title').text.strip()\n",
        "        price = product.find('span', class_='price').text.strip()\n",
        "        print(f\"Product: {title}\")\n",
        "        print(f\"Price: {price}\")\n",
        "        print()\n",
        "\n",
        "url = 'https://example.com'\n",
        "scrape_website(url)"
      ],
      "metadata": {
        "id": "dVXlxVZxJt9b"
      },
      "execution_count": null,
      "outputs": []
    },
    {
      "cell_type": "markdown",
      "source": [
        "63.\tDevelop a weather application that retrieves data from an API and displays it using plots."
      ],
      "metadata": {
        "id": "ewEx5ikRJ4uL"
      }
    },
    {
      "cell_type": "code",
      "source": [
        "import requests\n",
        "import matplotlib.pyplot as plt\n",
        "import json\n",
        "\n",
        "def get_weather_data(city):\n",
        "    api_key = \"YOUR_API_KEY\"  # Replace with your actual API key\n",
        "    url = f\"https://api.openweathermap.org/data/2.5/weather?q={city}&appid={api_key}&units=metric\"\n",
        "    response = requests.get(url)\n",
        "    data = json.loads(response.text)\n",
        "    return data\n",
        "\n",
        "def plot_weather_data(data):\n",
        "    temperature = data['main']['temp']\n",
        "    humidity = data['main']['humidity']\n",
        "    pressure = data['main']['pressure']\n",
        "\n",
        "    plt.figure(figsize=(10, 6))\n",
        "    plt.bar(['Temperature', 'Humidity', 'Pressure'], [temperature, humidity, pressure])\n",
        "    plt.xlabel('Weather Parameter')\n",
        "    plt.ylabel('Value')\n",
        "    plt.title(f'Weather in {data[\"name\"]}')\n",
        "    plt.show()\n",
        "\n",
        "city = input(\"Enter city name: \")\n",
        "weather_data = get_weather_data(city)\n",
        "plot_weather_data(weather_data)"
      ],
      "metadata": {
        "id": "yr6Q5n7rJ4Hd"
      },
      "execution_count": null,
      "outputs": []
    },
    {
      "cell_type": "markdown",
      "source": [
        "64.\tCreate a ToDo application using classes and file handling to save tasks."
      ],
      "metadata": {
        "id": "rAGjSJy9KOV2"
      }
    },
    {
      "cell_type": "code",
      "source": [
        "import json\n",
        "\n",
        "class Task:\n",
        "    def __init__(self, title, description, due_date):\n",
        "        self.title = title\n",
        "        self.description = description\n",
        "        self.due_date = due_date\n",
        "        self.completed = False\n",
        "\n",
        "class ToDoList:\n",
        "    def __init__(self, filename):\n",
        "        self.filename = filename\n",
        "        self.load_tasks()\n",
        "\n",
        "    def load_tasks(self):\n",
        "        try:\n",
        "            with open(self.filename, 'r') as f:\n",
        "                self.tasks = json.load(f)\n",
        "        except FileNotFoundError:\n",
        "            self.tasks = []\n",
        "\n",
        "    def save_tasks(self):\n",
        "        with open(self.filename, 'w') as f:\n",
        "            json.dump(self.tasks, f, indent=4)\n",
        "\n",
        "    def add_task(self, title, description, due_date):\n",
        "        task = Task(title, description, due_date)\n",
        "        self.tasks.append(task)\n",
        "        self.save_tasks()\n",
        "\n",
        "    def mark_task_completed(self, index):\n",
        "        self.tasks[index].completed = True\n",
        "        self.save_tasks()\n",
        "\n",
        "    def remove_task(self, index):\n",
        "        del self.tasks[index]\n",
        "        self.save_tasks()\n",
        "\n",
        "    def display_tasks(self):\n",
        "        for i, task in enumerate(self.tasks):\n",
        "            status = \"Completed\" if task.completed else \"Pending\"\n",
        "            print(f\"{i+1}. {task.title} ({status}) - Due: {task.due_date}\")\n",
        "\n",
        "# Example usage\n",
        "todo_list = ToDoList('todo_list.json')\n",
        "\n",
        "todo_list.add_task(\"Buy groceries\", \"Milk, eggs, bread\", \"2023-12-05\")\n",
        "todo_list.add_task(\"Finish project report\", \"Write conclusion and references\", \"2023-12-10\")\n",
        "\n",
        "todo_list.display_tasks()"
      ],
      "metadata": {
        "id": "qloexxlWJQOA"
      },
      "execution_count": null,
      "outputs": []
    },
    {
      "cell_type": "markdown",
      "source": [
        "65.\tWrite a function that converts a number to its binary string representation."
      ],
      "metadata": {
        "id": "XkUSnlY2Kh0O"
      }
    },
    {
      "cell_type": "code",
      "source": [
        "def decimal_to_binary(n):\n",
        "    binary = \"\"\n",
        "    while n > 0:\n",
        "        binary = str(n % 2) + binary\n",
        "        n //= 2\n",
        "    return binary"
      ],
      "metadata": {
        "id": "FscvGWj0KfRf"
      },
      "execution_count": null,
      "outputs": []
    },
    {
      "cell_type": "markdown",
      "source": [
        "66.\tCreate a program to generate random passwords with specified complexity.\n"
      ],
      "metadata": {
        "id": "Tp7ZBc4_KqDn"
      }
    },
    {
      "cell_type": "code",
      "source": [
        "import random\n",
        "import string\n",
        "\n",
        "def generate_password(length, complexity):\n",
        "    characters = string.ascii_letters + string.digits\n",
        "    if complexity == \"strong\":\n",
        "        characters += string.punctuation\n",
        "    password = ''.join(random.choice(characters) for _ in range(length))\n",
        "    return password\n",
        "\n",
        "# Example usage:\n",
        "password_length = 12\n",
        "password_complexity = \"strong\"  # or \"weak\"\n",
        "password = generate_password(password_length, password_complexity)\n",
        "print(password)"
      ],
      "metadata": {
        "id": "4mvgNa7PKoc7"
      },
      "execution_count": null,
      "outputs": []
    },
    {
      "cell_type": "markdown",
      "source": [
        "67.\tImplement a text-based version of tic-tac-toe."
      ],
      "metadata": {
        "id": "_-Jnt1RDK2XX"
      }
    },
    {
      "cell_type": "code",
      "source": [
        "def print_board(board):\n",
        "    for row in board:\n",
        "        print(\"|\".join(row))\n",
        "        print(\"-\" * 9)\n",
        "\n",
        "def check_win(board, player):\n",
        "    # Check rows\n",
        "    for row in board:\n",
        "        if all(cell == player for cell in row):\n",
        "            return True\n",
        "\n",
        "    # Check columns\n",
        "    for col in range(3):\n",
        "        if all(board[row][col] == player for row in range(3)):\n",
        "            return True\n",
        "\n",
        "    # Check diagonals\n",
        "    if all(board[i][i] == player for i in range(3)) or all(board[i][2-i] == player for i in range(3)):\n",
        "        return True\n",
        "\n",
        "    return False\n",
        "\n",
        "def play_tic_tac_toe():\n",
        "    board = [[\" \" for _ in range(3)] for _ in range(3)]\n",
        "    current_player = \"X\"\n",
        "\n",
        "    while True:\n",
        "        print_board(board)\n",
        "        row = int(input(f\"Player {current_player}, enter row (0, 1, or 2): \"))\n",
        "        col = int(input(f\"Player {current_player}, enter column (0, 1, or 2): \"))\n",
        "\n",
        "        if board[row][col] == \" \":\n",
        "            board[row][col] = current_player\n",
        "            if check_win(board, current_player):\n",
        "                print_board(board)\n",
        "                print(f\"Player {current_player} wins!\")\n",
        "                break\n",
        "            elif all(cell != \" \" for row in board for cell in row):\n",
        "                print_board(board)\n",
        "                print(\"It's a tie!\")\n",
        "                break\n",
        "            current_player = \"O\" if current_player == \"X\" else \"X\"\n",
        "        else:\n",
        "            print(\"That space is already taken. Try again.\")\n",
        "\n",
        "play_tic_tac_toe()"
      ],
      "metadata": {
        "id": "8C_JfHdAK1iw"
      },
      "execution_count": null,
      "outputs": []
    },
    {
      "cell_type": "markdown",
      "source": [
        "68.\tWrite a script that applies basic text analysis on a provided text file."
      ],
      "metadata": {
        "id": "SH-qIj1hLBSI"
      }
    },
    {
      "cell_type": "code",
      "source": [
        "def analyze_text(file_path):\n",
        "    with open(file_path, 'r') as f:\n",
        "        text = f.read()\n",
        "\n",
        "    # Basic analysis\n",
        "    word_count = len(text.split())\n",
        "    character_count = len(text)\n",
        "    line_count = text.count('\\n')\n",
        "\n",
        "    print(\"Word count:\", word_count)\n",
        "    print(\"Character count:\", character_count)\n",
        "    print(\"Line count:\", line_count)\n",
        "\n",
        "# Example usage\n",
        "file_path = \"your_text_file.txt\"\n",
        "analyze_text(file_path)"
      ],
      "metadata": {
        "id": "mAPD8B2rLAYS"
      },
      "execution_count": null,
      "outputs": []
    },
    {
      "cell_type": "markdown",
      "source": [
        "69.\tDevelop a simple task scheduler that runs functions at specified intervals."
      ],
      "metadata": {
        "id": "N-sdPnRJLL1I"
      }
    },
    {
      "cell_type": "code",
      "source": [
        "import time\n",
        "import threading\n",
        "\n",
        "def schedule_task(func, interval):\n",
        "    def wrapper():\n",
        "        while True:\n",
        "            func()\n",
        "            time.sleep(interval)\n",
        "    t = threading.Thread(target=wrapper)\n",
        "    t.start()\n",
        "\n",
        "# Example usage\n",
        "def print_hello():\n",
        "    print(\"Hello, world!\")\n",
        "\n",
        "schedule_task(print_hello, 5)  # Print \"Hello, world!\" every 5 seconds"
      ],
      "metadata": {
        "id": "acYhNqz1LLap"
      },
      "execution_count": null,
      "outputs": []
    },
    {
      "cell_type": "markdown",
      "source": [
        "70.\tCreate a budgeting application that tracks expenses using classes."
      ],
      "metadata": {
        "id": "k_V-ltKCLWZ6"
      }
    },
    {
      "cell_type": "code",
      "source": [
        "class Expense:\n",
        "    def __init__(self, category, amount, date):\n",
        "        self.category = category\n",
        "        self.amount = amount\n",
        "        self.date = date\n",
        "\n",
        "class Budget:\n",
        "    def __init__(self, monthly_budget):\n",
        "        self.monthly_budget = monthly_budget\n",
        "        self.expenses = []\n",
        "\n",
        "    def add_expense(self, expense):\n",
        "        self.expenses.append(expense)\n",
        "\n",
        "    def total_expenses(self):\n",
        "        total = 0\n",
        "        for expense in self.expenses:\n",
        "            total += expense.amount\n",
        "        return total\n",
        "\n",
        "    def remaining_budget(self):\n",
        "        return self.monthly_budget - self.total_expenses()\n",
        "\n",
        "# Example usage\n",
        "budget = Budget(1000)\n",
        "expense1 = Expense(\"Groceries\", 200, \"2023-11-25\")\n",
        "expense2 = Expense(\"Rent\", 500, \"2023-12-01\")\n",
        "budget.add_expense(expense1)\n",
        "budget.add_expense(expense2)\n",
        "\n",
        "print(\"Total Expenses:\", budget.total_expenses())\n",
        "print(\"Remaining Budget:\", budget.remaining_budget())"
      ],
      "metadata": {
        "id": "OPLuwFBuLV_c"
      },
      "execution_count": null,
      "outputs": []
    },
    {
      "cell_type": "markdown",
      "source": [
        "71.\tWrite a program that analyzes and visualizes stock market data."
      ],
      "metadata": {
        "id": "jsNw-x_BLlAV"
      }
    },
    {
      "cell_type": "code",
      "source": [
        "import pandas as pd\n",
        "import matplotlib.pyplot as plt\n",
        "\n",
        "def analyze_stock(ticker):\n",
        "    df = pd.read_csv(f\"{ticker}.csv\")\n",
        "    df['Date'] = pd.to_datetime(df['Date'])\n",
        "    df.set_index('Date', inplace=True)\n",
        "\n",
        "    # Basic analysis\n",
        "    print(df.head())\n",
        "    print(df.describe())\n",
        "\n",
        "    # Plotting\n",
        "    plt.figure(figsize=(12, 6))\n",
        "    plt.plot(df['Close'])\n",
        "    plt.xlabel('Date')\n",
        "    plt.ylabel('Closing Price')\n",
        "    plt.title(f'Closing Price of {ticker}')\n",
        "    plt.show()"
      ],
      "metadata": {
        "id": "ZFXY5cuTLgs7"
      },
      "execution_count": null,
      "outputs": []
    },
    {
      "cell_type": "markdown",
      "source": [
        "72.\tDevelop a Python script that automates file organization based on file types."
      ],
      "metadata": {
        "id": "Kp5Q6yUaLxhI"
      }
    },
    {
      "cell_type": "code",
      "source": [
        "import os\n",
        "import shutil\n",
        "\n",
        "def organize_files(directory):\n",
        "    file_types = {\n",
        "        'documents': ('.doc', '.docx', '.pdf', '.txt'),\n",
        "        'images': ('.jpg', '.jpeg', '.png', '.gif'),\n",
        "        'videos': ('.mp4', '.avi', '.mov'),\n",
        "        'music': ('.mp3', '.wav', '.flac'),\n",
        "        'archives': ('.zip', '.rar', '.7z'),\n",
        "        'others': ()\n",
        "    }\n",
        "\n",
        "    for root, dirs, files in os.walk(directory):\n",
        "        for file in files:\n",
        "            file_path = os.path.join(root, file)\n",
        "            file_extension = os.path.splitext(file)[1].lower()\n",
        "            found = False\n",
        "\n",
        "            for file_type, extensions in file_types.items():\n",
        "                if file_extension in extensions:\n",
        "                    file_type_dir = os.path.join(directory, file_type)\n",
        "                    if not os.path.exists(file_type_dir):\n",
        "                        os.makedirs(file_type_dir)\n",
        "                    shutil.move(file_path, file_type_dir)\n",
        "                    found = True\n",
        "                    break\n",
        "\n",
        "            if not found:\n",
        "                other_dir = os.path.join(directory, 'others')\n",
        "                if not os.path.exists(other_dir):\n",
        "                    os.makedirs(other_dir)\n",
        "                shutil.move(file_path, other_dir)\n",
        "\n",
        "# Example usage\n",
        "directory_to_organize = \"path/to/your/directory\"\n",
        "organize_files(directory_to_organize)"
      ],
      "metadata": {
        "id": "gYxfj3TJLt6-"
      },
      "execution_count": null,
      "outputs": []
    },
    {
      "cell_type": "markdown",
      "source": [
        "73.\tCreate a system for monitoring server performance metrics and notifying on anomalies."
      ],
      "metadata": {
        "id": "3aYycmQbL_Ql"
      }
    },
    {
      "cell_type": "code",
      "source": [
        "import psutil\n",
        "import smtplib\n",
        "import time\n",
        "\n",
        "def send_email(subject, body):\n",
        "    sender_email = \"your_email@gmail.com\"\n",
        "    password = \"your_password\"\n",
        "    receiver_email = \"recipient_email@gmail.com\"\n",
        "\n",
        "    message = f\"Subject: {subject}\\n\\n{body}\"\n",
        "\n",
        "    with smtplib.SMTP('smtp.gmail.com', 587) as smtp:\n",
        "        smtp.starttls()\n",
        "        smtp.login(sender_email, password)\n",
        "        smtp.sendmail(sender_email, receiver_email, message)\n",
        "\n",
        "def monitor_server():\n",
        "    while True:\n",
        "        cpu_usage = psutil.cpu_percent()\n",
        "        memory_usage = psutil.virtual_memory().percent\n",
        "        disk_usage = psutil.disk_usage('/').percent\n",
        "\n",
        "        if cpu_usage > 80 or memory_usage > 80 or disk_usage > 80:\n",
        "            subject = \"Server Performance Alert\"\n",
        "            body = f\"\"\"\n",
        "            CPU Usage: {cpu_usage}%\n",
        "            Memory Usage: {memory_usage}%\n",
        "            Disk Usage: {disk_usage}%\n",
        "            \"\"\"\n",
        "            send_email(subject, body)\n",
        "\n",
        "        time.sleep(60)  # Monitor every 60 seconds\n",
        "\n",
        "if __name__ == \"__main__\":\n",
        "    monitor_server()"
      ],
      "metadata": {
        "id": "jX29PqhHL6Xy"
      },
      "execution_count": null,
      "outputs": []
    },
    {
      "cell_type": "markdown",
      "source": [
        "74.\tBuild a simple e-commerce cart system using classes and functions."
      ],
      "metadata": {
        "id": "f1peeNseMLls"
      }
    },
    {
      "cell_type": "code",
      "source": [
        "class Product:\n",
        "    def __init__(self, name, price):\n",
        "        self.name = name\n",
        "        self.price = price\n",
        "\n",
        "class Cart:\n",
        "    def __init__(self):\n",
        "        self.items = []\n",
        "\n",
        "    def add_item(self, product):\n",
        "        self.items.append(product)\n",
        "\n",
        "    def remove_item(self, product):\n",
        "        self.items.remove(product)\n",
        "\n",
        "    def calculate_total(self):\n",
        "        total = 0\n",
        "        for item in self.items:\n",
        "            total += item.price\n",
        "        return total\n",
        "\n",
        "# Example usage\n",
        "product1 = Product(\"Laptop\", 800)\n",
        "product2 = Product(\"Phone\", 500)\n",
        "\n",
        "cart = Cart()\n",
        "cart.add_item(product1)\n",
        "cart.add_item(product2)\n",
        "\n",
        "print(\"Total Price:\", cart.calculate_total())"
      ],
      "metadata": {
        "id": "DKmvhRUwL57C"
      },
      "execution_count": null,
      "outputs": []
    },
    {
      "cell_type": "markdown",
      "source": [
        "75.\tImplement a user authentication system with classes and file storage."
      ],
      "metadata": {
        "id": "_z4-J7GbMam9"
      }
    },
    {
      "cell_type": "code",
      "source": [
        "\n",
        "import json\n",
        "\n",
        "class User:\n",
        "    def __init__(self, username, password):\n",
        "        self.username = username\n",
        "        self.password = password\n",
        "\n",
        "class AuthenticationSystem:\n",
        "    def __init__(self, filename):\n",
        "        self.filename = filename\n",
        "        self.load_users()\n",
        "\n",
        "    def load_users(self):\n",
        "        try:\n",
        "            with open(self.filename, 'r') as f:\n",
        "                self.users = json.load(f)\n",
        "        except FileNotFoundError:\n",
        "            self.users = []\n",
        "\n",
        "    def save_users(self):\n",
        "        with open(self.filename, 'w') as f:\n",
        "            json.dump(self.users, f, indent=4)\n",
        "\n",
        "    def register_user(self, username, password):\n",
        "        new_user = User(username, password)\n",
        "        self.users.append(new_user)\n",
        "        self.save_users()\n",
        "\n",
        "    def login(self, username, password):\n",
        "        for user in self.users:\n",
        "            if user.username == username and user.password == password:\n",
        "                return True\n",
        "        return False\n",
        "# Example usage\n",
        "auth_system = AuthenticationSystem(\"users.json\")\n",
        "\n",
        "# Register a new user\n",
        "auth_system.register_user(\"user1\", \"password123\")\n",
        "\n",
        "# Login\n",
        "if auth_system.login(\"user1\", \"password123\"):\n",
        "    print(\"Login successful\")\n",
        "else:\n",
        "    print(\"Login failed\")\n"
      ],
      "metadata": {
        "id": "vbEumJn_MZ1-"
      },
      "execution_count": null,
      "outputs": []
    },
    {
      "cell_type": "markdown",
      "source": [
        "76.\tDesign a quiz application that evaluates user knowledge using functions and data structures."
      ],
      "metadata": {
        "id": "Vb35wpK8MmZC"
      }
    },
    {
      "cell_type": "code",
      "source": [
        "def ask_question(question, options):\n",
        "    print(question)\n",
        "    for i, option in enumerate(options):\n",
        "        print(f\"{i+1}. {option}\")\n",
        "    user_answer = int(input(\"Enter your answer (1-{}): \".format(len(options))))\n",
        "    return user_answer - 1\n",
        "\n",
        "def check_answer(correct_answer, user_answer):\n",
        "    return correct_answer == user_answer\n",
        "\n",
        "def quiz():\n",
        "    questions = [\n",
        "        (\"What is the capital of France?\", [\"Paris\", \"London\", \"Berlin\", \"Madrid\"]),\n",
        "        (\"What is the largest country in the world by land area?\", [\"Russia\", \"Canada\", \"China\", \"United States\"]),\n",
        "        (\"Who painted the Mona Lisa?\", [\"Leonardo da Vinci\", \"Michelangelo\", \"Pablo Picasso\", \"Vincent van Gogh\"])\n",
        "    ]\n",
        "\n",
        "    score = 0\n",
        "    for question, options in questions:\n",
        "        user_answer = ask_question(question, options)\n",
        "        correct_answer = 0  # Assuming the first option is correct\n",
        "        if check_answer(correct_answer, user_answer):\n",
        "            score += 1\n",
        "            print(\"Correct!\")\n",
        "        else:\n",
        "            print(\"Incorrect.\")\n",
        "\n",
        "    print(\"Your score:\", score, \"/\", len(questions))\n",
        "\n",
        "quiz()"
      ],
      "metadata": {
        "id": "Zrl31k78NLrZ"
      },
      "execution_count": null,
      "outputs": []
    },
    {
      "cell_type": "markdown",
      "source": [
        "77.\tCreate a simulation of a simple traffic light system."
      ],
      "metadata": {
        "id": "-K0MLzdLNjWP"
      }
    },
    {
      "cell_type": "code",
      "source": [
        "import time\n",
        "\n",
        "def traffic_light_simulation():\n",
        "    colors = [\"Red\", \"Yellow\", \"Green\"]\n",
        "    current_color = colors[0]\n",
        "\n",
        "    while True:\n",
        "        print(f\"Traffic light is {current_color}\")\n",
        "        time.sleep(5)  # Adjust the duration as needed\n",
        "\n",
        "        if current_color == \"Red\":\n",
        "            current_color = \"Green\"\n",
        "        elif current_color == \"Green\":\n",
        "            current_color = \"Yellow\"\n",
        "        elif current_color == \"Yellow\":\n",
        "            current_color = \"Red\"\n",
        "\n",
        "traffic_light_simulation()"
      ],
      "metadata": {
        "id": "8hITmkXYNPag"
      },
      "execution_count": null,
      "outputs": []
    },
    {
      "cell_type": "code",
      "source": [],
      "metadata": {
        "id": "SIbPI9hFNymj"
      },
      "execution_count": null,
      "outputs": []
    },
    {
      "cell_type": "markdown",
      "source": [
        "78.\tDevelop a content management system using object-oriented principles and file handling."
      ],
      "metadata": {
        "id": "oBH8M877NzQh"
      }
    },
    {
      "cell_type": "code",
      "source": [
        "import json\n",
        "\n",
        "class Article:\n",
        "    def __init__(self, title, content, author):\n",
        "        self.title = title\n",
        "        self.content = content\n",
        "        self.author = author\n",
        "\n",
        "class CMS:\n",
        "    def __init__(self, filename):\n",
        "        self.filename = filename\n",
        "        self.load_articles()\n",
        "\n",
        "    def load_articles(self):\n",
        "        try:\n",
        "            with open(self.filename, 'r') as f:\n",
        "                self.articles = json.load(f)\n",
        "        except FileNotFoundError:\n",
        "            self.articles = []\n",
        "\n",
        "    def save_articles(self):\n",
        "        with open(self.filename, 'w') as f:\n",
        "            json.dump(self.articles, f, indent=4)\n",
        "\n",
        "    def add_article(self, article):\n",
        "        self.articles.append(article.__dict__)\n",
        "        self.save_articles()\n",
        "\n",
        "    def remove_article(self, title):\n",
        "        for i, article in enumerate(self.articles):\n",
        "            if article['title'] == title:\n",
        "                del self.articles[i]\n",
        "                self.save_articles()\n",
        "                return\n",
        "        print(\"Article not found\")\n",
        "\n",
        "    def list_articles(self):\n",
        "        for article in self.articles:\n",
        "            print(f\"Title: {article['title']}\\nAuthor: {article['author']}\\n\")\n",
        "\n",
        "# Example usage\n",
        "cms = CMS('articles.json')\n",
        "\n",
        "article1 = Article(\"Python Tutorial\", \"Learn Python programming\", \"Alice\")\n",
        "cms.add_article(article1)\n",
        "\n",
        "cms.list_articles()"
      ],
      "metadata": {
        "id": "hjtOXxfpOFb6"
      },
      "execution_count": null,
      "outputs": []
    }
  ]
}